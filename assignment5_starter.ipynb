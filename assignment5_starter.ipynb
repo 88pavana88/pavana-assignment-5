{
  "cells": [
    {
      "cell_type": "code",
      "execution_count": 4,
      "metadata": {
        "id": "s6sTu0BWwlK_"
      },
      "outputs": [],
      "source": [
        "import numpy as np\n",
        "import pandas as pd"
      ]
    },
    {
      "cell_type": "code",
      "execution_count": 6,
      "metadata": {
        "id": "4CMQf0pqwlLC"
      },
      "outputs": [],
      "source": [
        "# Define the KNN class\n",
        "class KNN:\n",
        "    def __init__(self, k=3, distance_metric='euclidean'):\n",
        "        self.k = k\n",
        "        self.distance_metric = distance_metric\n",
        "\n",
        "    def fit(self, X, y):\n",
        "        self.X_train = np.array(X)\n",
        "        self.y_train = np.array(y)\n",
        "\n",
        "    def predict(self, X):\n",
        "        pred = []\n",
        "        X = np.array(X)\n",
        "\n",
        "        for x_test in X:\n",
        "            distances = self.compute_distance(self.X_train, x_test)\n",
        "            index = np.argsort(distances)[:self.k]\n",
        "            nearestK = self.y_train[index].astype(int)\n",
        "\n",
        "            majority_vote = np.argmax(np.bincount(nearestK))\n",
        "            pred.append(majority_vote)\n",
        "        return pred\n",
        "\n",
        "    def compute_distance(self, X1, X2):\n",
        "        if self.distance_metric == 'euclidean':\n",
        "            return np.sqrt(np.sum((X1 - X2) ** 2, axis=1))\n",
        "        elif self.distance_metric == 'manhattan':\n",
        "            return np.sum(np.abs(X1 - X2), axis=1)\n",
        "        else:\n",
        "            raise ValueError(f\"Distance metric not applicable: {self.distance_metric}\")"
      ]
    },
    {
      "cell_type": "code",
      "execution_count": 7,
      "metadata": {
        "id": "_oPd_jqTwlLE"
      },
      "outputs": [],
      "source": [
        "# Define data preprocessing function\n",
        "def preprocess_data(train_path, test_path):\n",
        "    train_data = pd.read_csv(train_path)\n",
        "    test_data = pd.read_csv(test_path)\n",
        "\n",
        "    # Drop unnecessary columns\n",
        "    train_data = train_data.drop(['CustomerId', 'Surname'], axis=1)\n",
        "    test_data = test_data.drop(['CustomerId', 'Surname'], axis=1)\n",
        "\n",
        "    # Encode categorical variables\n",
        "    train_data['Geography'] = train_data['Geography'].astype('category').cat.codes\n",
        "    test_data['Geography'] = test_data['Geography'].astype('category').cat.codes\n",
        "\n",
        "    train_data['Gender'] = train_data['Gender'].astype('category').cat.codes\n",
        "    test_data['Gender'] = test_data['Gender'].astype('category').cat.codes\n",
        "\n",
        "    # Separate features and target\n",
        "    X = train_data.drop('Exited', axis=1).values\n",
        "    y = train_data['Exited'].values\n",
        "    XtestData = test_data.values\n",
        "\n",
        "    # Normalize features\n",
        "    average = np.mean(X, axis=0)\n",
        "    standDev = np.std(X, axis=0)\n",
        "\n",
        "    X_train = (X - average) / standDev\n",
        "    X_test = (XtestData - average) / standDev\n",
        "\n",
        "    return X_train, y, X_test\n"
      ]
    },
    {
      "cell_type": "code",
      "execution_count": 8,
      "metadata": {
        "id": "hzp8Ua8CwlLF"
      },
      "outputs": [],
      "source": [
        "# Define cross-validation function\n",
        "def cross_validate(X, y, knn, n_splits=5):\n",
        "    lenFold = len(X) // n_splits\n",
        "    calc_acc = []\n",
        "\n",
        "    for x in range(n_splits):\n",
        "        initialValue = x * lenFold\n",
        "\n",
        "        if x != n_splits - 1:\n",
        "            finalValue = initialValue + lenFold\n",
        "        else:\n",
        "            finalValue = len(X)  # Handle the last fold\n",
        "\n",
        "        indexVal = np.arange(initialValue, finalValue)\n",
        "        indexTrain = np.concatenate([np.arange(initialValue), np.arange(finalValue, len(X))])\n",
        "\n",
        "        trainX = X[indexTrain]\n",
        "        trainY = y[indexTrain]\n",
        "        xValue = X[indexVal]\n",
        "        yValue = y[indexVal]\n",
        "\n",
        "        knn.fit(trainX, trainY)\n",
        "        predictY = knn.predict(xValue)\n",
        "\n",
        "        acc = np.mean(predictY == yValue)\n",
        "        calc_acc.append(acc)\n",
        "\n",
        "    return np.mean(calc_acc)\n"
      ]
    },
    {
      "cell_type": "code",
      "execution_count": 11,
      "metadata": {
        "id": "RAaWCz31wlLF"
      },
      "outputs": [],
      "source": [
        "# Load and preprocess data\n",
        "X, y, X_test = preprocess_data('/content/train.csv', '/content/test.csv')\n",
        "\n",
        "# Create and evaluate model with initial k=5\n",
        "knn = KNN(k=5, distance_metric='euclidean')\n",
        "\n",
        "# Perform cross-validation\n",
        "results = cross_validate(X, y, knn)\n",
        "\n",
        "# Hyperparameter tuning\n",
        "kHighest = 5\n",
        "scoreHighest = results  # Initialize with the score of k=5\n",
        "for x in range(1, 20):\n",
        "    knn = KNN(k=x, distance_metric='euclidean')\n",
        "    check = cross_validate(X, y, knn)\n",
        "\n",
        "    if check > scoreHighest:\n",
        "        scoreHighest = check\n",
        "        kHighest = x\n",
        "\n",
        "# Train on full dataset with optimal hyperparameters and make predictions on test set\n",
        "knn = KNN(k=kHighest, distance_metric='euclidean')\n",
        "knn.fit(X, y)\n",
        "finalPredictions = knn.predict(X_test)\n",
        "\n",
        "# Save test predictions\n",
        "pd.DataFrame({'id': pd.read_csv('/content/test.csv')['id'], 'Exited': finalPredictions}).to_csv('submissions.csv', index=False)\n"
      ]
    }
  ],
  "metadata": {
    "colab": {
      "provenance": []
    },
    "kernelspec": {
      "display_name": "cs506",
      "language": "python",
      "name": "python3"
    },
    "language_info": {
      "codemirror_mode": {
        "name": "ipython",
        "version": 3
      },
      "file_extension": ".py",
      "mimetype": "text/x-python",
      "name": "python",
      "nbconvert_exporter": "python",
      "pygments_lexer": "ipython3",
      "version": "3.10.15"
    }
  },
  "nbformat": 4,
  "nbformat_minor": 0
}
